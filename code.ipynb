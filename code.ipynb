{
 "cells": [
  {
   "cell_type": "code",
   "execution_count": 36,
   "metadata": {},
   "outputs": [],
   "source": [
    "import pomegranate\n",
    "import logging\n",
    "logging.basicConfig(level=logging.INFO)"
   ]
  },
  {
   "cell_type": "markdown",
   "metadata": {},
   "source": [
    "## Task1: Monty Hall Problem\n",
    "![task1](figures/task1.png)\n",
    "As we know:\n",
    "\n",
    "$P(guest = A) = P(guest = B) = P(guest = C) = \\frac{1}{3}$\n",
    "$P(prize = A) = P(prize = B) = P(prize = C) = \\frac{1}{3}$\n",
    "\n",
    "When $guest$ is chosen, then $monty$ will be randomly chosen from $\\lbrace A, B, C\\rbrace - \\lbrace guest, prize\\rbrace$\n",
    "\n",
    "The question is:\n",
    "$$P(guest = A, prize = C, monty = B)$$\n",
    "$$P(guest = A, prize = C, monty = A)$$"
   ]
  },
  {
   "cell_type": "code",
   "execution_count": 3,
   "metadata": {},
   "outputs": [],
   "source": [
    "guest = pomegranate.DiscreteDistribution(\n",
    "    {\n",
    "        'A': 1 / 3,\n",
    "        'B': 1 / 3,\n",
    "        'C': 1 / 3\n",
    "    }\n",
    ")"
   ]
  },
  {
   "cell_type": "code",
   "execution_count": 4,
   "metadata": {},
   "outputs": [],
   "source": [
    "prize = pomegranate.DiscreteDistribution(\n",
    "    {\n",
    "        'A': 1 / 3,\n",
    "        'B': 1 / 3,\n",
    "        'C': 1 / 3\n",
    "    }\n",
    ")"
   ]
  },
  {
   "cell_type": "code",
   "execution_count": 12,
   "metadata": {},
   "outputs": [],
   "source": [
    "S = ['A', 'B', 'C']\n",
    "f = lambda x, y, z: \\\n",
    "        (0.0 if z == x else 0.5) \\\n",
    "        if x == y else \\\n",
    "        (0.0 if z == x or z == y else 1.0)\n",
    "monty = [[i, j, k, f(i, j, k)] for i in S for j in S for k in S]\n",
    "monty = pomegranate.ConditionalProbabilityTable(\n",
    "    monty, [guest, prize])"
   ]
  },
  {
   "cell_type": "code",
   "execution_count": 14,
   "metadata": {},
   "outputs": [],
   "source": [
    "s1 = pomegranate.State(guest, name=\"guest\")\n",
    "s2 = pomegranate.State(prize, name=\"prize\")\n",
    "s3 = pomegranate.State(monty, name=\"monty\")\n",
    "\n",
    "model = pomegranate.BayesianNetwork(\"Monty Hall Problem\")\n",
    "model.add_states(s1, s2, s3)\n",
    "model.add_transition(s1, s3)\n",
    "model.add_transition(s2, s3)\n",
    "model.bake()"
   ]
  },
  {
   "cell_type": "code",
   "execution_count": 16,
   "metadata": {},
   "outputs": [
    {
     "data": {
      "text/plain": [
       "0.11111111111111109"
      ]
     },
     "execution_count": 16,
     "metadata": {},
     "output_type": "execute_result"
    }
   ],
   "source": [
    "model.probability(['A', 'C', 'B'])"
   ]
  },
  {
   "cell_type": "code",
   "execution_count": 17,
   "metadata": {},
   "outputs": [
    {
     "data": {
      "text/plain": [
       "0.0"
      ]
     },
     "execution_count": 17,
     "metadata": {},
     "output_type": "execute_result"
    }
   ],
   "source": [
    "model.probability(['A', 'C', 'A'])"
   ]
  },
  {
   "cell_type": "code",
   "execution_count": null,
   "metadata": {},
   "outputs": [],
   "source": []
  },
  {
   "cell_type": "markdown",
   "metadata": {},
   "source": [
    "## Burglary\n",
    "\n",
    "![task2](figures/task2.png)\n",
    "\n",
    "**Question:**\n",
    "1. $P(JohnCalls, MaryCalls)$\n",
    "2. $P(Burglary, Earthquake, Alarm, JohnCalls, MaryCalls)$\n",
    "3. $P(Alarm | JohnCalls, MaryCalls)$\n",
    "4. $P(JohnCalls, \\neg MaryCalls | \\neg Burglary)$"
   ]
  },
  {
   "cell_type": "code",
   "execution_count": 31,
   "metadata": {},
   "outputs": [],
   "source": [
    "burglary = pomegranate.DiscreteDistribution(\n",
    "    {\n",
    "        True: 0.001,\n",
    "        False: 0.999\n",
    "    }\n",
    ")\n",
    "\n",
    "earthquake = pomegranate.DiscreteDistribution(\n",
    "    {\n",
    "        True: 0.002,\n",
    "        False: 0.998\n",
    "    }\n",
    ")\n",
    "\n",
    "S = {True: 0, False: 1}\n",
    "\n",
    "alarm = [0.95, 0.94, 0.29, 0.001]\n",
    "f = lambda x, y, z: \\\n",
    "        alarm[2 * S[x] + S[y]] if z else 1-alarm[2 * S[x] + S[y]]\n",
    "alarm = [[i, j, k, f(i, j, k)] for i in S for j in S for k in S]\n",
    "alarm = pomegranate.ConditionalProbabilityTable(\n",
    "    alarm, [burglary, earthquake])\n",
    "\n",
    "johncalls = [0.90, 0.05]\n",
    "f = lambda x, y: \\\n",
    "        johncalls[S[x]] if y else 1-johncalls[S[x]]\n",
    "johncalls = [[i, j, f(i, j)] for i in S for j in S]\n",
    "johncalls = pomegranate.ConditionalProbabilityTable(\n",
    "    johncalls, [alarm])\n",
    "\n",
    "marycalls = [0.70, 0.01]\n",
    "f = lambda x, y: \\\n",
    "        marycalls[S[x]] if y else 1-marycalls[S[x]]\n",
    "marycalls = [[i, j, f(i, j)] for i in S for j in S]\n",
    "marycalls = pomegranate.ConditionalProbabilityTable(\n",
    "    marycalls, [alarm])"
   ]
  },
  {
   "cell_type": "code",
   "execution_count": 33,
   "metadata": {},
   "outputs": [],
   "source": [
    "s1 = pomegranate.State(burglary, name=\"Burglary\")\n",
    "s2 = pomegranate.State(earthquake, name=\"Earthquake\")\n",
    "s3 = pomegranate.State(alarm, name=\"Alarm\")\n",
    "s4 = pomegranate.State(johncalls, name=\"JohnCalls\")\n",
    "s5 = pomegranate.State(marycalls, name=\"MaryCalls\")\n",
    "\n",
    "model = pomegranate.BayesianNetwork(\"Burglary\")\n",
    "model.add_states(s1, s2, s3, s4, s5)\n",
    "model.add_transition(s1, s3)\n",
    "model.add_transition(s2, s3)\n",
    "model.add_transition(s3, s4)\n",
    "model.add_transition(s3, s5)\n",
    "model.bake()"
   ]
  },
  {
   "cell_type": "code",
   "execution_count": 69,
   "metadata": {},
   "outputs": [],
   "source": [
    "def get_probability(model, target, condition):\n",
    "    ret = 1.0\n",
    "    for i, v in enumerate(target):\n",
    "        if v is None:\n",
    "            continue\n",
    "        tmp = model.predict_proba(condition)\n",
    "        ret *= tmp[i].parameters[0][v]\n",
    "        condition[i] = v\n",
    "    return ret"
   ]
  },
  {
   "cell_type": "code",
   "execution_count": 70,
   "metadata": {},
   "outputs": [
    {
     "data": {
      "text/plain": [
       "0.0020841002390004624"
      ]
     },
     "execution_count": 70,
     "metadata": {},
     "output_type": "execute_result"
    }
   ],
   "source": [
    "get_probability(\n",
    "    model, \n",
    "    [None, None, None, True, True], \n",
    "    [None, None, None, None, None]\n",
    ")"
   ]
  },
  {
   "cell_type": "code",
   "execution_count": 71,
   "metadata": {},
   "outputs": [
    {
     "data": {
      "text/plain": [
       "1.1970000000007947e-06"
      ]
     },
     "execution_count": 71,
     "metadata": {},
     "output_type": "execute_result"
    }
   ],
   "source": [
    "get_probability(\n",
    "    model, \n",
    "    [True, True, True, True, True], \n",
    "    [None, None, None, None, None]\n",
    ")"
   ]
  },
  {
   "cell_type": "code",
   "execution_count": 72,
   "metadata": {},
   "outputs": [
    {
     "data": {
      "text/plain": [
       "0.7606920388631567"
      ]
     },
     "execution_count": 72,
     "metadata": {},
     "output_type": "execute_result"
    }
   ],
   "source": [
    "get_probability(\n",
    "    model, \n",
    "    [None, None, True, None, None], \n",
    "    [None, None, None, True, True]\n",
    ")"
   ]
  },
  {
   "cell_type": "code",
   "execution_count": 73,
   "metadata": {},
   "outputs": [
    {
     "data": {
      "text/plain": [
       "0.04984794900000031"
      ]
     },
     "execution_count": 73,
     "metadata": {},
     "output_type": "execute_result"
    }
   ],
   "source": [
    "get_probability(\n",
    "    model, \n",
    "    [None, None, None, True, False], \n",
    "    [False, None, None, None, None]\n",
    ")"
   ]
  },
  {
   "cell_type": "code",
   "execution_count": null,
   "metadata": {},
   "outputs": [],
   "source": []
  },
  {
   "cell_type": "markdown",
   "metadata": {},
   "source": [
    "## Task3: Diagnosing\n",
    "![task3](figures/task3.svg)"
   ]
  },
  {
   "cell_type": "code",
   "execution_count": 85,
   "metadata": {},
   "outputs": [],
   "source": [
    "patientage_domain = (\"0-30\", \"31-65\", \"65+\")\n",
    "ctscanresult_domain = (\"Ischemic Stroke\", \"Hemmorraghic Stroke\")\n",
    "mriscanresult_domain = (\"Ischemic Stroke\", \"Hemmorraghic Stroke\")\n",
    "stroketype_domain = (\"Ischemic Stroke\", \"Hemmorraghic Stroke\", \"Stroke Mimic\")\n",
    "anticoagulants_domain = (\"Used\", \"Not used\")\n",
    "mortality_domain = (\"False\", \"True\")\n",
    "disability_domain = (\"Negligible\", \"Moderate\", \"Severe\")\n",
    "\n",
    "patientage = pomegranate.DiscreteDistribution(\n",
    "    {\n",
    "        \"0-30\": 0.10,\n",
    "        \"31-65\": 0.30,\n",
    "        \"65+\": 0.60\n",
    "    }\n",
    ")\n",
    "\n",
    "ctscanresult = pomegranate.DiscreteDistribution(\n",
    "    {\n",
    "        \"Ischemic Stroke\": 0.70,\n",
    "        \"Hemmorraghic Stroke\": 0.30\n",
    "    }\n",
    ")\n",
    "\n",
    "mriscanresult = pomegranate.DiscreteDistribution(\n",
    "    {\n",
    "        \"Ischemic Stroke\": 0.70,\n",
    "        \"Hemmorraghic Stroke\": 0.30\n",
    "    }\n",
    ")\n",
    "\n",
    "anticoagulants = pomegranate.DiscreteDistribution(\n",
    "    {\n",
    "        \"Used\": 0.5,\n",
    "        \"Not used\": 0.5\n",
    "    }\n",
    ")\n",
    "\n",
    "stroketype = [0.8, 0.5, 0.5, 0.0, \n",
    "              0.0, 0.4, 0.4, 0.9, \n",
    "              0.2, 0.1, 0.1, 0.1]\n",
    "f = lambda i, j, k: stroketype[4 * k + 2 * i + j]\n",
    "stroketype = [\n",
    "    [x, y, z, f(i, j, k)]\n",
    "        for k, z in enumerate(stroketype_domain)\n",
    "            for i, x in enumerate(ctscanresult_domain)\n",
    "                for j, y in enumerate(mriscanresult_domain)\n",
    "]\n",
    "stroketype = pomegranate.ConditionalProbabilityTable(\n",
    "    stroketype, [ctscanresult, mriscanresult])\n",
    "\n",
    "\n",
    "mortality = [0.28, 0.99, 0.1, 0.56, 0.58, 0.05, \n",
    "             0.72, 0.01, 0.9, 0.44, 0.42, 0.95]\n",
    "f = lambda i, j, k: mortality[6 * k + 3 * j + i]\n",
    "mortality = [\n",
    "    [x, y, z, f(i, j, k)]\n",
    "        for k, z in enumerate(mortality_domain)\n",
    "            for j, y in enumerate(anticoagulants_domain)\n",
    "                for i, x in enumerate(stroketype_domain)\n",
    "]\n",
    "mortality = pomegranate.ConditionalProbabilityTable(\n",
    "    mortality, [stroketype, anticoagulants])\n",
    "\n",
    "\n",
    "disability = [0.80, 0.70, 0.90, 0.60, 0.50, 0.40, 0.30, 0.20, 0.10, \n",
    "              0.10, 0.20, 0.05, 0.30, 0.40, 0.30, 0.40, 0.20, 0.10, \n",
    "              0.10, 0.10, 0.05, 0.10, 0.10, 0.30, 0.30, 0.60, 0.80]\n",
    "f = lambda i, j, k: disability[9 * k + 3 * j + i]\n",
    "disability = [\n",
    "    [x, y, z, f(i, j, k)]\n",
    "        for k, z in enumerate(disability_domain)\n",
    "            for j, y in enumerate(patientage_domain)\n",
    "                for i, x in enumerate(stroketype_domain)\n",
    "]\n",
    "disability = pomegranate.ConditionalProbabilityTable(\n",
    "    disability, [stroketype, patientage]\n",
    ")"
   ]
  },
  {
   "cell_type": "code",
   "execution_count": 86,
   "metadata": {},
   "outputs": [],
   "source": [
    "s1 = pomegranate.State(ctscanresult, name=\"CTScanResult\")\n",
    "s2 = pomegranate.State(mriscanresult, name=\"MRIScanResult\")\n",
    "s3 = pomegranate.State(patientage, name=\"PatientAge\")\n",
    "s4 = pomegranate.State(stroketype, name=\"StrokeType\")\n",
    "s5 = pomegranate.State(anticoagulants, name=\"Anticoagulants\")\n",
    "s6 = pomegranate.State(disability, name=\"Disability\")\n",
    "s7 = pomegranate.State(mortality, name=\"Mortality\")\n",
    "\n",
    "model = pomegranate.BayesianNetwork(\"Diagnosing\")\n",
    "model.add_states(s1, s2, s3, s4, s5, s6, s7)\n",
    "model.add_transition(s1, s4)\n",
    "model.add_transition(s2, s4)\n",
    "model.add_transition(s3, s6)\n",
    "model.add_transition(s4, s6)\n",
    "model.add_transition(s4, s7)\n",
    "model.add_transition(s5, s7)\n",
    "model.bake()"
   ]
  },
  {
   "cell_type": "code",
   "execution_count": 87,
   "metadata": {},
   "outputs": [
    {
     "data": {
      "text/plain": [
       "0.5948499999999999"
      ]
     },
     "execution_count": 87,
     "metadata": {},
     "output_type": "execute_result"
    }
   ],
   "source": [
    "# p(mortality = true | patientage = 0-30, ctscanresult = ischemic stroke)\n",
    "get_probability(\n",
    "    model, \n",
    "    [None, None, None, None, None, None, \"True\"], \n",
    "    [\"Ischemic Stroke\", None, \"0-30\", None, None, None, None]\n",
    ")"
   ]
  },
  {
   "cell_type": "code",
   "execution_count": 88,
   "metadata": {},
   "outputs": [
    {
     "data": {
      "text/plain": [
       "0.42100000000000004"
      ]
     },
     "execution_count": 88,
     "metadata": {},
     "output_type": "execute_result"
    }
   ],
   "source": [
    "# p(disa = \"severe\" | patient=65+, mri=ischemic)\n",
    "get_probability(\n",
    "    model, \n",
    "    [None, None, None, None, None, \"Severe\", None], \n",
    "    [None, \"Ischemic Stroke\", \"65+\", None, None, None, None]\n",
    ")"
   ]
  },
  {
   "cell_type": "code",
   "execution_count": 89,
   "metadata": {},
   "outputs": [
    {
     "data": {
      "text/plain": [
       "0.10000000000000045"
      ]
     },
     "execution_count": 89,
     "metadata": {},
     "output_type": "execute_result"
    }
   ],
   "source": [
    "# p(stroke=mimic | patient=65+, ct=Hemmo, mri=Ischemic)\n",
    "get_probability(\n",
    "    model, \n",
    "    [None, None, None, \"Stroke Mimic\", None, None, None], \n",
    "    [\"Hemmorraghic Stroke\", \"Ischemic Stroke\", \"65+\", None, None, None, None]\n",
    ")"
   ]
  },
  {
   "cell_type": "code",
   "execution_count": 90,
   "metadata": {},
   "outputs": [
    {
     "data": {
      "text/plain": [
       "0.1000000000000002"
      ]
     },
     "execution_count": 90,
     "metadata": {},
     "output_type": "execute_result"
    }
   ],
   "source": [
    "# p(mortality=false | age=0-30, antico=used, stroke=mimic)\n",
    "get_probability(\n",
    "    model, \n",
    "    [None, None, None, None, None, None, \"False\"], \n",
    "    [None, None, \"0-30\", \"Stroke Mimic\", \"Used\", None, None]\n",
    ")"
   ]
  },
  {
   "cell_type": "code",
   "execution_count": 91,
   "metadata": {},
   "outputs": [
    {
     "data": {
      "text/plain": [
       "5.2500000000000726e-06"
      ]
     },
     "execution_count": 91,
     "metadata": {},
     "output_type": "execute_result"
    }
   ],
   "source": [
    "# p(age=0-30, ct=Is, mri=Hemmo, antico=Used, type=Mimic, disability=severe, mortality=false)\n",
    "get_probability(\n",
    "    model, \n",
    "    [\"Ischemic Stroke\", \"Hemmorraghic Stroke\", \"0-30\", \"Stroke Mimic\", \"Used\", \"Severe\", \"False\"], \n",
    "    [None, None, None, None, None, None, None]\n",
    ")"
   ]
  },
  {
   "cell_type": "code",
   "execution_count": null,
   "metadata": {},
   "outputs": [],
   "source": []
  }
 ],
 "metadata": {
  "@webio": {
   "lastCommId": "aa1999588acf47ae83aea40285cad7c6",
   "lastKernelId": "f7933765-2436-4701-a0fe-51ceaf38d66f"
  },
  "kernelspec": {
   "display_name": "Python 3",
   "language": "python",
   "name": "python3"
  },
  "language_info": {
   "codemirror_mode": {
    "name": "ipython",
    "version": 3
   },
   "file_extension": ".py",
   "mimetype": "text/x-python",
   "name": "python",
   "nbconvert_exporter": "python",
   "pygments_lexer": "ipython3",
   "version": "3.7.0"
  }
 },
 "nbformat": 4,
 "nbformat_minor": 2
}
